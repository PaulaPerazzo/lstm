{
 "cells": [
  {
   "cell_type": "markdown",
   "metadata": {},
   "source": [
    "## Import the libs"
   ]
  },
  {
   "cell_type": "code",
   "execution_count": 13,
   "metadata": {},
   "outputs": [],
   "source": [
    "import tensorflow as tf\n",
    "import numpy as np\n",
    "import pandas as pd\n",
    "import matplotlib.pyplot as plt\n",
    "from sklearn.preprocessing import StandardScaler\n",
    "import io"
   ]
  },
  {
   "cell_type": "markdown",
   "metadata": {},
   "source": [
    "## Import and read the data"
   ]
  },
  {
   "cell_type": "code",
   "execution_count": 14,
   "metadata": {},
   "outputs": [
    {
     "data": {
      "text/html": [
       "<div>\n",
       "<style scoped>\n",
       "    .dataframe tbody tr th:only-of-type {\n",
       "        vertical-align: middle;\n",
       "    }\n",
       "\n",
       "    .dataframe tbody tr th {\n",
       "        vertical-align: top;\n",
       "    }\n",
       "\n",
       "    .dataframe thead th {\n",
       "        text-align: right;\n",
       "    }\n",
       "</style>\n",
       "<table border=\"1\" class=\"dataframe\">\n",
       "  <thead>\n",
       "    <tr style=\"text-align: right;\">\n",
       "      <th></th>\n",
       "      <th>Date</th>\n",
       "      <th>Open</th>\n",
       "      <th>High</th>\n",
       "      <th>Low</th>\n",
       "      <th>Close</th>\n",
       "      <th>Adj Close</th>\n",
       "      <th>Volume</th>\n",
       "    </tr>\n",
       "  </thead>\n",
       "  <tbody>\n",
       "    <tr>\n",
       "      <th>0</th>\n",
       "      <td>2000-01-03</td>\n",
       "      <td>4.075000</td>\n",
       "      <td>4.478125</td>\n",
       "      <td>3.952344</td>\n",
       "      <td>4.468750</td>\n",
       "      <td>4.468750</td>\n",
       "      <td>322352000</td>\n",
       "    </tr>\n",
       "    <tr>\n",
       "      <th>1</th>\n",
       "      <td>2000-01-04</td>\n",
       "      <td>4.268750</td>\n",
       "      <td>4.575000</td>\n",
       "      <td>4.087500</td>\n",
       "      <td>4.096875</td>\n",
       "      <td>4.096875</td>\n",
       "      <td>349748000</td>\n",
       "    </tr>\n",
       "    <tr>\n",
       "      <th>2</th>\n",
       "      <td>2000-01-05</td>\n",
       "      <td>3.525000</td>\n",
       "      <td>3.756250</td>\n",
       "      <td>3.400000</td>\n",
       "      <td>3.487500</td>\n",
       "      <td>3.487500</td>\n",
       "      <td>769148000</td>\n",
       "    </tr>\n",
       "    <tr>\n",
       "      <th>3</th>\n",
       "      <td>2000-01-06</td>\n",
       "      <td>3.565625</td>\n",
       "      <td>3.634375</td>\n",
       "      <td>3.200000</td>\n",
       "      <td>3.278125</td>\n",
       "      <td>3.278125</td>\n",
       "      <td>375040000</td>\n",
       "    </tr>\n",
       "    <tr>\n",
       "      <th>4</th>\n",
       "      <td>2000-01-07</td>\n",
       "      <td>3.350000</td>\n",
       "      <td>3.525000</td>\n",
       "      <td>3.309375</td>\n",
       "      <td>3.478125</td>\n",
       "      <td>3.478125</td>\n",
       "      <td>210108000</td>\n",
       "    </tr>\n",
       "    <tr>\n",
       "      <th>...</th>\n",
       "      <td>...</td>\n",
       "      <td>...</td>\n",
       "      <td>...</td>\n",
       "      <td>...</td>\n",
       "      <td>...</td>\n",
       "      <td>...</td>\n",
       "      <td>...</td>\n",
       "    </tr>\n",
       "    <tr>\n",
       "      <th>6032</th>\n",
       "      <td>2023-12-22</td>\n",
       "      <td>153.770004</td>\n",
       "      <td>154.350006</td>\n",
       "      <td>152.710007</td>\n",
       "      <td>153.419998</td>\n",
       "      <td>153.419998</td>\n",
       "      <td>29480100</td>\n",
       "    </tr>\n",
       "    <tr>\n",
       "      <th>6033</th>\n",
       "      <td>2023-12-26</td>\n",
       "      <td>153.559998</td>\n",
       "      <td>153.979996</td>\n",
       "      <td>153.029999</td>\n",
       "      <td>153.410004</td>\n",
       "      <td>153.410004</td>\n",
       "      <td>25067200</td>\n",
       "    </tr>\n",
       "    <tr>\n",
       "      <th>6034</th>\n",
       "      <td>2023-12-27</td>\n",
       "      <td>153.559998</td>\n",
       "      <td>154.779999</td>\n",
       "      <td>153.119995</td>\n",
       "      <td>153.339996</td>\n",
       "      <td>153.339996</td>\n",
       "      <td>31434700</td>\n",
       "    </tr>\n",
       "    <tr>\n",
       "      <th>6035</th>\n",
       "      <td>2023-12-28</td>\n",
       "      <td>153.720001</td>\n",
       "      <td>154.080002</td>\n",
       "      <td>152.949997</td>\n",
       "      <td>153.380005</td>\n",
       "      <td>153.380005</td>\n",
       "      <td>27057000</td>\n",
       "    </tr>\n",
       "    <tr>\n",
       "      <th>6036</th>\n",
       "      <td>2023-12-29</td>\n",
       "      <td>153.100006</td>\n",
       "      <td>153.889999</td>\n",
       "      <td>151.029999</td>\n",
       "      <td>151.940002</td>\n",
       "      <td>151.940002</td>\n",
       "      <td>39789000</td>\n",
       "    </tr>\n",
       "  </tbody>\n",
       "</table>\n",
       "<p>6037 rows × 7 columns</p>\n",
       "</div>"
      ],
      "text/plain": [
       "            Date        Open        High         Low       Close   Adj Close  \\\n",
       "0     2000-01-03    4.075000    4.478125    3.952344    4.468750    4.468750   \n",
       "1     2000-01-04    4.268750    4.575000    4.087500    4.096875    4.096875   \n",
       "2     2000-01-05    3.525000    3.756250    3.400000    3.487500    3.487500   \n",
       "3     2000-01-06    3.565625    3.634375    3.200000    3.278125    3.278125   \n",
       "4     2000-01-07    3.350000    3.525000    3.309375    3.478125    3.478125   \n",
       "...          ...         ...         ...         ...         ...         ...   \n",
       "6032  2023-12-22  153.770004  154.350006  152.710007  153.419998  153.419998   \n",
       "6033  2023-12-26  153.559998  153.979996  153.029999  153.410004  153.410004   \n",
       "6034  2023-12-27  153.559998  154.779999  153.119995  153.339996  153.339996   \n",
       "6035  2023-12-28  153.720001  154.080002  152.949997  153.380005  153.380005   \n",
       "6036  2023-12-29  153.100006  153.889999  151.029999  151.940002  151.940002   \n",
       "\n",
       "         Volume  \n",
       "0     322352000  \n",
       "1     349748000  \n",
       "2     769148000  \n",
       "3     375040000  \n",
       "4     210108000  \n",
       "...         ...  \n",
       "6032   29480100  \n",
       "6033   25067200  \n",
       "6034   31434700  \n",
       "6035   27057000  \n",
       "6036   39789000  \n",
       "\n",
       "[6037 rows x 7 columns]"
      ]
     },
     "execution_count": 14,
     "metadata": {},
     "output_type": "execute_result"
    }
   ],
   "source": [
    "data_path = \"./data/amazon_data.csv\"\n",
    "data = pd.read_csv(data_path)\n",
    "data"
   ]
  },
  {
   "cell_type": "code",
   "execution_count": 17,
   "metadata": {},
   "outputs": [
    {
     "data": {
      "text/plain": [
       "array([  4.46875   ,   4.09687519,   3.48749995, ..., 153.33999634,\n",
       "       153.38000488, 151.94000244])"
      ]
     },
     "execution_count": 17,
     "metadata": {},
     "output_type": "execute_result"
    }
   ],
   "source": [
    "close_data = data['Adj Close'].values\n",
    "close_data"
   ]
  },
  {
   "cell_type": "markdown",
   "metadata": {},
   "source": [
    "## Processing data"
   ]
  },
  {
   "cell_type": "code",
   "execution_count": 18,
   "metadata": {},
   "outputs": [],
   "source": [
    "scaler = StandardScaler()\n",
    "scaled_data = scaler.fit_transform(close_data.reshape(-1, 1))"
   ]
  },
  {
   "cell_type": "markdown",
   "metadata": {},
   "source": [
    "### Plotting"
   ]
  },
  {
   "cell_type": "code",
   "execution_count": 25,
   "metadata": {},
   "outputs": [
    {
     "data": {
      "image/png": "[encoded data removed]",
      "text/plain": [
       "<Figure size 640x480 with 1 Axes>"
      ]
     },
     "metadata": {},
     "output_type": "display_data"
    }
   ],
   "source": [
    "plt.figure(edgecolor='blue')\n",
    "plt.title('Amazon Stock Price')\n",
    "plt.xlabel('Days')\n",
    "plt.ylabel('Scaled Price')\n",
    "plt.plot(scaled_data, label='Stock Price')\n",
    "plt.legend()\n",
    "plt.savefig('./figs/stock_price.png')\n",
    "plt.show()\n",
    "\n"
   ]
  },
  {
   "cell_type": "code",
   "execution_count": null,
   "metadata": {},
   "outputs": [],
   "source": []
  }
 ],
 "metadata": {
  "kernelspec": {
   "display_name": "lstmenv",
   "language": "python",
   "name": "python3"
  },
  "language_info": {
   "codemirror_mode": {
    "name": "ipython",
    "version": 3
   },
   "file_extension": ".py",
   "mimetype": "text/x-python",
   "name": "python",
   "nbconvert_exporter": "python",
   "pygments_lexer": "ipython3",
   "version": "3.10.13"
  }
 },
 "nbformat": 4,
 "nbformat_minor": 2
}
